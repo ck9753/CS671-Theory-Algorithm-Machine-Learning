{
 "cells": [
  {
   "cell_type": "code",
   "execution_count": 18,
   "id": "87031019",
   "metadata": {},
   "outputs": [
    {
     "name": "stdout",
     "output_type": "stream",
     "text": [
      "Host_is_superhost\n",
      "Host_has_profile_pic\n",
      "Host_identity_verified\n",
      "Instant_bookable\n",
      "4 columns were label encoded.\n",
      "Training Features shape:  (7471, 107)\n",
      "Testing Features shape:  (2440, 89)\n"
     ]
    },
    {
     "name": "stderr",
     "output_type": "stream",
     "text": [
      "c:\\users\\owner\\appdata\\local\\programs\\python\\python39\\lib\\site-packages\\sklearn\\base.py:434: UserWarning: X has feature names, but KNeighborsClassifier was fitted without feature names\n",
      "  warnings.warn(\n"
     ]
    },
    {
     "name": "stdout",
     "output_type": "stream",
     "text": [
      "Wall time: 1.31 s\n"
     ]
    }
   ],
   "source": [
    "%%time\n",
    "# numpy and pandas for data manipulation\n",
    "import numpy as np\n",
    "import pandas as pd\n",
    "\n",
    "# sklearn preprocessing for dealing with categorical variables (for label encoding)\n",
    "from sklearn.preprocessing import LabelEncoder\n",
    "from sklearn.impute import SimpleImputer\n",
    "from sklearn import linear_model\n",
    "\n",
    "# File system management\n",
    "# for creating and removing a directory (folder), fetching its contents, changing and identifying the current directory, etc\n",
    "import os\n",
    "import sys\n",
    "\n",
    "# matplotlib and seaborn for plotting\n",
    "import matplotlib.pyplot as plt\n",
    "# seaborn is a library for making statistical graphics in Python\n",
    "import seaborn as sns\n",
    "\n",
    "# Read train data\n",
    "ab_train = pd.read_csv('train.csv')\n",
    "\n",
    "# Read test data\n",
    "ab_test = pd.read_csv('test.csv')\n",
    "\n",
    "## Converting Categorical Features\n",
    "\n",
    "# Cleaning up Price's currency data with pandas\n",
    "ab_train['Price'] = ab_train['Price'].replace({'\\$':'',',':''},regex=True).astype('float')\n",
    "ab_test['Price'] = ab_test['Price'].replace({'\\$':'',',':''},regex=True).astype('float')\n",
    "\n",
    "## Encoding Categorical Vairables\n",
    "\n",
    "# Create a label encoder object\n",
    "le = LabelEncoder()\n",
    "le_count = 0\n",
    "\n",
    "# Iterate through the columns\n",
    "for col in ab_train:\n",
    "    if ab_train[col].dtype == 'object':\n",
    "        unique_list = list(ab_train[col].unique())\n",
    "        unique_list = [x for x in unique_list if pd.isnull(x)==False]\n",
    "        # If 2 or fewer unique categories\n",
    "        if len(unique_list) <= 2:\n",
    "            # Train on the training data\n",
    "            le.fit(ab_train[col])\n",
    "            # Transform both training and testing data\n",
    "            ab_train[col] = le.transform(ab_train[col])\n",
    "            ab_test[col] = le.transform(ab_test[col])\n",
    "            \n",
    "            # Keep track of how many columns were label encoded\n",
    "            le_count += 1\n",
    "            print(col)\n",
    "print('%d columns were label encoded.' % le_count)\n",
    "\n",
    "# one-hot encoding of categorical variables\n",
    "\n",
    "ab_train = pd.get_dummies(ab_train)\n",
    "ab_test = pd.get_dummies(ab_test)\n",
    "\n",
    "print('Training Features shape: ', ab_train.shape)\n",
    "print('Testing Features shape: ', ab_test.shape)\n",
    "\n",
    "ab_train.fillna(ab_train.mean(), inplace = True)\n",
    "ab_test.fillna(ab_test.mean(), inplace = True)\n",
    "\n",
    "## Aligining Training and Testing Data\n",
    "\n",
    "train_labels = ab_train['Decision']\n",
    "\n",
    "# Align the training and testing data, keep only columns present in both dataframes\n",
    "ab_train, ab_test = ab_train.align(ab_test, join = 'inner', axis = 1)\n",
    "\n",
    "# Add the target back in\n",
    "ab_train['Decision'] = train_labels\n",
    "\n",
    "## Imputing missing values for sklearn decision tree\n",
    "\n",
    "# retrieve the numpy array\n",
    "train_values = ab_train.values\n",
    "test_values = ab_test.values\n",
    "\n",
    "#degine the imputer\n",
    "imp = SimpleImputer(missing_values=np.nan, strategy='mean')\n",
    "transformed_train_values = imp.fit_transform(train_values)\n",
    "transformed_test_values = imp.fit_transform(test_values)\n",
    "\n",
    "\n",
    "# Set up the train data with columns that are in use\n",
    "X = ab_train.drop(['Decision','id'], axis=1)\n",
    "y = ab_train['Decision']\n",
    "\n",
    "from sklearn.model_selection import train_test_split\n",
    "X_train, X_test, y_train, y_test = train_test_split(X, y, test_size = 0.1, random_state = 0)\n",
    "\n",
    "from sklearn.preprocessing import StandardScaler\n",
    "sc = StandardScaler()\n",
    "X_train = sc.fit_transform(X_train)\n",
    "X_test = sc.transform(X_test)\n",
    "\n",
    "from sklearn.neighbors import KNeighborsClassifier\n",
    "classifier = KNeighborsClassifier(n_neighbors = 5, metric = 'minkowski', p = 2)\n",
    "classifier.fit(X_train, y_train)\n",
    "y_pred=classifier.predict(X_test)\n",
    "\n",
    "from sklearn.metrics import confusion_matrix,accuracy_score\n",
    "cm = confusion_matrix(y_test, y_pred)\n",
    "ac = accuracy_score(y_test,y_pred)\n",
    "\n",
    "X_test_test = ab_test.drop(['id'], axis=1)\n",
    "y_pred = classifier.predict(X_test_test)\n",
    "\n",
    "id = ab_test['id'].values.tolist()\n",
    "df = pd.DataFrame({'id':id,'Decision':y_pred})\n",
    "\n",
    "#df.to_csv('result_KNN.csv', index = False)"
   ]
  },
  {
   "cell_type": "code",
   "execution_count": 6,
   "id": "2d6bfba0",
   "metadata": {},
   "outputs": [],
   "source": [
    "# Read train data\n",
    "ab_train = pd.read_csv('train.csv')\n",
    "\n",
    "# Read test data\n",
    "ab_test = pd.read_csv('test.csv')"
   ]
  },
  {
   "cell_type": "code",
   "execution_count": 7,
   "id": "ddedeb35",
   "metadata": {},
   "outputs": [],
   "source": [
    "## Converting Categorical Features\n",
    "\n",
    "# Cleaning up Price's currency data with pandas\n",
    "ab_train['Price'] = ab_train['Price'].replace({'\\$':'',',':''},regex=True).astype('float')\n",
    "ab_test['Price'] = ab_test['Price'].replace({'\\$':'',',':''},regex=True).astype('float')"
   ]
  },
  {
   "cell_type": "code",
   "execution_count": 8,
   "id": "c4f65421",
   "metadata": {},
   "outputs": [
    {
     "name": "stdout",
     "output_type": "stream",
     "text": [
      "Host_is_superhost\n",
      "Host_has_profile_pic\n",
      "Host_identity_verified\n",
      "Instant_bookable\n",
      "4 columns were label encoded.\n"
     ]
    }
   ],
   "source": [
    "## Encoding Categorical Vairables\n",
    "\n",
    "# Create a label encoder object\n",
    "le = LabelEncoder()\n",
    "le_count = 0\n",
    "\n",
    "# Iterate through the columns\n",
    "for col in ab_train:\n",
    "    if ab_train[col].dtype == 'object':\n",
    "        unique_list = list(ab_train[col].unique())\n",
    "        unique_list = [x for x in unique_list if pd.isnull(x)==False]\n",
    "        # If 2 or fewer unique categories\n",
    "        if len(unique_list) <= 2:\n",
    "            # Train on the training data\n",
    "            le.fit(ab_train[col])\n",
    "            # Transform both training and testing data\n",
    "            ab_train[col] = le.transform(ab_train[col])\n",
    "            ab_test[col] = le.transform(ab_test[col])\n",
    "            \n",
    "            # Keep track of how many columns were label encoded\n",
    "            le_count += 1\n",
    "            print(col)\n",
    "print('%d columns were label encoded.' % le_count)"
   ]
  },
  {
   "cell_type": "code",
   "execution_count": 9,
   "id": "ce8637ed",
   "metadata": {},
   "outputs": [
    {
     "name": "stdout",
     "output_type": "stream",
     "text": [
      "Training Features shape:  (7471, 107)\n",
      "Testing Features shape:  (2440, 89)\n"
     ]
    }
   ],
   "source": [
    "# one-hot encoding of categorical variables\n",
    "\n",
    "ab_train = pd.get_dummies(ab_train)\n",
    "ab_test = pd.get_dummies(ab_test)\n",
    "\n",
    "print('Training Features shape: ', ab_train.shape)\n",
    "print('Testing Features shape: ', ab_test.shape)\n",
    "\n",
    "ab_train.fillna(ab_train.mean(), inplace = True)\n",
    "ab_test.fillna(ab_test.mean(), inplace = True)"
   ]
  },
  {
   "cell_type": "code",
   "execution_count": 10,
   "id": "e32e9fa4",
   "metadata": {},
   "outputs": [],
   "source": [
    "## Aligining Training and Testing Data\n",
    "\n",
    "train_labels = ab_train['Decision']\n",
    "\n",
    "# Align the training and testing data, keep only columns present in both dataframes\n",
    "ab_train, ab_test = ab_train.align(ab_test, join = 'inner', axis = 1)\n",
    "\n",
    "# Add the target back in\n",
    "ab_train['Decision'] = train_labels"
   ]
  },
  {
   "cell_type": "code",
   "execution_count": 11,
   "id": "b6a41e8e",
   "metadata": {},
   "outputs": [],
   "source": [
    "## Imputing missing values for sklearn decision tree\n",
    "\n",
    "# retrieve the numpy array\n",
    "train_values = ab_train.values\n",
    "test_values = ab_test.values\n",
    "\n",
    "#degine the imputer\n",
    "imp = SimpleImputer(missing_values=np.nan, strategy='mean')\n",
    "transformed_train_values = imp.fit_transform(train_values)\n",
    "transformed_test_values = imp.fit_transform(test_values)\n",
    "\n",
    "\n",
    "# Set up the train data with columns that are in use\n",
    "X = ab_train.drop(['Decision','id'], axis=1)\n",
    "y = ab_train['Decision']"
   ]
  },
  {
   "cell_type": "code",
   "execution_count": 12,
   "id": "f7dd7603",
   "metadata": {},
   "outputs": [],
   "source": [
    "from sklearn.model_selection import train_test_split\n",
    "X_train, X_test, y_train, y_test = train_test_split(X, y, test_size = 0.1, random_state = 0)\n",
    "\n",
    "from sklearn.preprocessing import StandardScaler\n",
    "sc = StandardScaler()\n",
    "X_train = sc.fit_transform(X_train)\n",
    "X_test = sc.transform(X_test)"
   ]
  },
  {
   "cell_type": "code",
   "execution_count": 14,
   "id": "c89378a9",
   "metadata": {},
   "outputs": [
    {
     "name": "stdout",
     "output_type": "stream",
     "text": [
      "0.6595317725752509\n"
     ]
    }
   ],
   "source": [
    "from sklearn.neighbors import KNeighborsClassifier\n",
    "classifier = KNeighborsClassifier(n_neighbors = 5, metric = 'minkowski', p = 2)\n",
    "classifier.fit(X_train, y_train)\n",
    "y_pred=classifier.predict(X_test)\n",
    "\n",
    "from sklearn.metrics import confusion_matrix,accuracy_score\n",
    "cm = confusion_matrix(y_test, y_pred)\n",
    "ac = accuracy_score(y_test,y_pred)\n",
    "print(ac)"
   ]
  },
  {
   "cell_type": "code",
   "execution_count": 15,
   "id": "2c52d8f0",
   "metadata": {},
   "outputs": [
    {
     "name": "stderr",
     "output_type": "stream",
     "text": [
      "c:\\users\\owner\\appdata\\local\\programs\\python\\python39\\lib\\site-packages\\sklearn\\base.py:434: UserWarning: X has feature names, but KNeighborsClassifier was fitted without feature names\n",
      "  warnings.warn(\n"
     ]
    },
    {
     "name": "stdout",
     "output_type": "stream",
     "text": [
      "[0 0 0 ... 0 0 0]\n"
     ]
    }
   ],
   "source": [
    "X_test_test = ab_test.drop(['id'], axis=1)\n",
    "y_pred = classifier.predict(X_test_test)\n",
    "print(y_pred)"
   ]
  },
  {
   "cell_type": "code",
   "execution_count": 73,
   "id": "4d7e8b6b",
   "metadata": {},
   "outputs": [
    {
     "name": "stdout",
     "output_type": "stream",
     "text": [
      "        id  Decision\n",
      "0        1         1\n",
      "1        2         1\n",
      "2        3         1\n",
      "3        4         1\n",
      "4        5         1\n",
      "...    ...       ...\n",
      "2435  2436         1\n",
      "2436  2437         0\n",
      "2437  2438         1\n",
      "2438  2439         0\n",
      "2439  2440         0\n",
      "\n",
      "[2440 rows x 2 columns]\n"
     ]
    }
   ],
   "source": [
    "id = ab_test['id'].values.tolist()\n",
    "df = pd.DataFrame({'id':id,'Decision':y_pred})\n",
    "print(df)\n",
    "\n",
    "df.to_csv('result_KNN.csv', index = False)"
   ]
  },
  {
   "cell_type": "code",
   "execution_count": 48,
   "id": "237c9cbf",
   "metadata": {},
   "outputs": [
    {
     "name": "stdout",
     "output_type": "stream",
     "text": [
      "0.6702341137123746\n"
     ]
    }
   ],
   "source": [
    "from sklearn.metrics import confusion_matrix,accuracy_score\n",
    "cm = confusion_matrix(y_test, y_pred)\n",
    "ac = accuracy_score(y_test,y_pred)\n",
    "print(ac)"
   ]
  },
  {
   "cell_type": "code",
   "execution_count": 16,
   "id": "7287575d",
   "metadata": {},
   "outputs": [
    {
     "name": "stderr",
     "output_type": "stream",
     "text": [
      "c:\\users\\owner\\appdata\\local\\programs\\python\\python39\\lib\\site-packages\\sklearn\\base.py:434: UserWarning: X has feature names, but KNeighborsClassifier was fitted without feature names\n",
      "  warnings.warn(\n"
     ]
    },
    {
     "name": "stdout",
     "output_type": "stream",
     "text": [
      "        id  Decision\n",
      "0        1         0\n",
      "1        2         0\n",
      "2        3         0\n",
      "3        4         0\n",
      "4        5         0\n",
      "...    ...       ...\n",
      "2435  2436         0\n",
      "2436  2437         0\n",
      "2437  2438         0\n",
      "2438  2439         0\n",
      "2439  2440         0\n",
      "\n",
      "[2440 rows x 2 columns]\n"
     ]
    }
   ],
   "source": [
    "## predict classification with test data\n",
    "\n",
    "X_test_test = ab_test.drop(['id'], axis=1)\n",
    "test_pre = classifier.predict(X_test_test)\n",
    "\n",
    "id = ab_test['id'].values.tolist()\n",
    "df = pd.DataFrame({'id':id,'Decision':test_pre})\n",
    "print(df)\n",
    "\n",
    "df.to_csv('result_KNN.csv', index = False)"
   ]
  },
  {
   "cell_type": "code",
   "execution_count": null,
   "id": "9a37bbfe",
   "metadata": {},
   "outputs": [],
   "source": [
    "0.39344"
   ]
  }
 ],
 "metadata": {
  "kernelspec": {
   "display_name": "Python 3 (ipykernel)",
   "language": "python",
   "name": "python3"
  },
  "language_info": {
   "codemirror_mode": {
    "name": "ipython",
    "version": 3
   },
   "file_extension": ".py",
   "mimetype": "text/x-python",
   "name": "python",
   "nbconvert_exporter": "python",
   "pygments_lexer": "ipython3",
   "version": "3.9.7"
  }
 },
 "nbformat": 4,
 "nbformat_minor": 5
}
